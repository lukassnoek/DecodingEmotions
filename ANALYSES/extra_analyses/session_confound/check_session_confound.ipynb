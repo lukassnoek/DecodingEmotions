{
 "cells": [
  {
   "cell_type": "code",
   "execution_count": 4,
   "metadata": {
    "collapsed": true
   },
   "outputs": [],
   "source": [
    "import pandas as pd\n",
    "import os.path as op\n",
    "from scipy.stats import ttest_ind"
   ]
  },
  {
   "cell_type": "code",
   "execution_count": 23,
   "metadata": {
    "collapsed": false
   },
   "outputs": [
    {
     "data": {
      "text/html": [
       "<div>\n",
       "<table border=\"1\" class=\"dataframe\">\n",
       "  <thead>\n",
       "    <tr style=\"text-align: right;\">\n",
       "      <th></th>\n",
       "      <th>sub_name</th>\n",
       "      <th>gender</th>\n",
       "      <th>age</th>\n",
       "      <th>self_accuracy</th>\n",
       "      <th>self_precision</th>\n",
       "      <th>self_recall</th>\n",
       "      <th>cross_accuracy</th>\n",
       "      <th>cross_precision</th>\n",
       "      <th>cross_recall</th>\n",
       "      <th>n_feat</th>\n",
       "      <th>session</th>\n",
       "      <th>suc_other_act</th>\n",
       "      <th>suc_other_int</th>\n",
       "      <th>suc_other_sit</th>\n",
       "      <th>suc_self_act</th>\n",
       "      <th>suc_self_int</th>\n",
       "      <th>suc_self_sit</th>\n",
       "    </tr>\n",
       "  </thead>\n",
       "  <tbody>\n",
       "    <tr>\n",
       "      <th>0</th>\n",
       "      <td>sub002</td>\n",
       "      <td>F</td>\n",
       "      <td>22</td>\n",
       "      <td>0.758333</td>\n",
       "      <td>0.758648</td>\n",
       "      <td>0.758333</td>\n",
       "      <td>0.344444</td>\n",
       "      <td>0.445693</td>\n",
       "      <td>0.344444</td>\n",
       "      <td>485.94852</td>\n",
       "      <td>2</td>\n",
       "      <td>80</td>\n",
       "      <td>80</td>\n",
       "      <td>90</td>\n",
       "      <td>90</td>\n",
       "      <td>80</td>\n",
       "      <td>80</td>\n",
       "    </tr>\n",
       "    <tr>\n",
       "      <th>1</th>\n",
       "      <td>sub003</td>\n",
       "      <td>F</td>\n",
       "      <td>20</td>\n",
       "      <td>0.491667</td>\n",
       "      <td>0.487200</td>\n",
       "      <td>0.491667</td>\n",
       "      <td>0.344444</td>\n",
       "      <td>0.336155</td>\n",
       "      <td>0.344444</td>\n",
       "      <td>686.21300</td>\n",
       "      <td>2</td>\n",
       "      <td>80</td>\n",
       "      <td>80</td>\n",
       "      <td>100</td>\n",
       "      <td>80</td>\n",
       "      <td>70</td>\n",
       "      <td>90</td>\n",
       "    </tr>\n",
       "    <tr>\n",
       "      <th>2</th>\n",
       "      <td>sub004</td>\n",
       "      <td>F</td>\n",
       "      <td>24</td>\n",
       "      <td>0.633333</td>\n",
       "      <td>0.628535</td>\n",
       "      <td>0.633333</td>\n",
       "      <td>0.444444</td>\n",
       "      <td>0.316919</td>\n",
       "      <td>0.444444</td>\n",
       "      <td>707.02899</td>\n",
       "      <td>1</td>\n",
       "      <td>80</td>\n",
       "      <td>70</td>\n",
       "      <td>80</td>\n",
       "      <td>90</td>\n",
       "      <td>70</td>\n",
       "      <td>70</td>\n",
       "    </tr>\n",
       "    <tr>\n",
       "      <th>3</th>\n",
       "      <td>sub005</td>\n",
       "      <td>M</td>\n",
       "      <td>23</td>\n",
       "      <td>0.525000</td>\n",
       "      <td>0.524290</td>\n",
       "      <td>0.525000</td>\n",
       "      <td>0.344444</td>\n",
       "      <td>0.577778</td>\n",
       "      <td>0.344444</td>\n",
       "      <td>499.08436</td>\n",
       "      <td>2</td>\n",
       "      <td>90</td>\n",
       "      <td>70</td>\n",
       "      <td>70</td>\n",
       "      <td>60</td>\n",
       "      <td>60</td>\n",
       "      <td>50</td>\n",
       "    </tr>\n",
       "    <tr>\n",
       "      <th>4</th>\n",
       "      <td>sub006</td>\n",
       "      <td>M</td>\n",
       "      <td>21</td>\n",
       "      <td>0.450000</td>\n",
       "      <td>0.457401</td>\n",
       "      <td>0.450000</td>\n",
       "      <td>0.444444</td>\n",
       "      <td>0.492605</td>\n",
       "      <td>0.444444</td>\n",
       "      <td>742.83952</td>\n",
       "      <td>1</td>\n",
       "      <td>90</td>\n",
       "      <td>70</td>\n",
       "      <td>90</td>\n",
       "      <td>90</td>\n",
       "      <td>90</td>\n",
       "      <td>80</td>\n",
       "    </tr>\n",
       "  </tbody>\n",
       "</table>\n",
       "</div>"
      ],
      "text/plain": [
       "  sub_name gender  age  self_accuracy  self_precision  self_recall  \\\n",
       "0   sub002      F   22       0.758333        0.758648     0.758333   \n",
       "1   sub003      F   20       0.491667        0.487200     0.491667   \n",
       "2   sub004      F   24       0.633333        0.628535     0.633333   \n",
       "3   sub005      M   23       0.525000        0.524290     0.525000   \n",
       "4   sub006      M   21       0.450000        0.457401     0.450000   \n",
       "\n",
       "   cross_accuracy  cross_precision  cross_recall     n_feat  session  \\\n",
       "0        0.344444         0.445693      0.344444  485.94852        2   \n",
       "1        0.344444         0.336155      0.344444  686.21300        2   \n",
       "2        0.444444         0.316919      0.444444  707.02899        1   \n",
       "3        0.344444         0.577778      0.344444  499.08436        2   \n",
       "4        0.444444         0.492605      0.444444  742.83952        1   \n",
       "\n",
       "   suc_other_act  suc_other_int  suc_other_sit  suc_self_act  suc_self_int  \\\n",
       "0             80             80             90            90            80   \n",
       "1             80             80            100            80            70   \n",
       "2             80             70             80            90            70   \n",
       "3             90             70             70            60            60   \n",
       "4             90             70             90            90            90   \n",
       "\n",
       "   suc_self_sit  \n",
       "0            80  \n",
       "1            90  \n",
       "2            70  \n",
       "3            50  \n",
       "4            80  "
      ]
     },
     "execution_count": 23,
     "metadata": {},
     "output_type": "execute_result"
    }
   ],
   "source": [
    "base_dir = '/media/lukas/data/DecodingEmotions/DATA/DATA_BEHAVIORAL'\n",
    "data_path = op.join(base_dir, 'validation_behav.csv')\n",
    "data = pd.read_csv(data_path)\n",
    "data.head()"
   ]
  },
  {
   "cell_type": "code",
   "execution_count": 28,
   "metadata": {
    "collapsed": false
   },
   "outputs": [
    {
     "name": "stdout",
     "output_type": "stream",
     "text": [
      "Results SELF-analysis (session 1 - session 2)\n",
      "Ttest_indResult(statistic=0.12224056437592998, pvalue=0.90406293377403713)\n",
      "Ttest_indResult(statistic=0.10435238342191862, pvalue=0.91804367907729034)\n",
      "Ttest_indResult(statistic=0.10435238342191862, pvalue=0.91804367907729034)\n",
      "\n",
      "Results CROSS-analysis (session 1 - session 2)\n",
      "Ttest_indResult(statistic=1.7313619654517232, pvalue=0.10049101425104463)\n",
      "Ttest_indResult(statistic=3.704692591400141, pvalue=0.0016216223090162829)\n",
      "Ttest_indResult(statistic=3.704692591400141, pvalue=0.0016216223090162829)\n"
     ]
    }
   ],
   "source": [
    "sess1 = data[data['session'] == 1]\n",
    "sess2 = data[data['session'] == 2]\n",
    "\n",
    "print(\"Results SELF-analysis (session 1 - session 2)\")\n",
    "print(ttest_ind(sess1['self_precision'], sess2['self_precision']))\n",
    "print(ttest_ind(sess1['self_recall'], sess2['self_recall']))\n",
    "print(ttest_ind(sess1['self_accuracy'], sess2['self_accuracy']))\n",
    "\n",
    "print(\"\\nResults CROSS-analysis (session 1 - session 2)\")\n",
    "print(ttest_ind(sess1['cross_precision'], sess2['cross_precision']))\n",
    "print(ttest_ind(sess1['cross_recall'], sess2['cross_recall']))\n",
    "print(ttest_ind(sess1['cross_accuracy'], sess2['cross_accuracy']))"
   ]
  },
  {
   "cell_type": "code",
   "execution_count": 32,
   "metadata": {
    "collapsed": false
   },
   "outputs": [
    {
     "name": "stdout",
     "output_type": "stream",
     "text": [
      "Results SELF-analysis (extra-session - no extra session)\n",
      "Ttest_indResult(statistic=-0.090203538223078319, pvalue=0.929121645555256)\n",
      "Ttest_indResult(statistic=-0.11612097713437418, pvalue=0.908842387608368)\n",
      "Ttest_indResult(statistic=-0.11612097713437418, pvalue=0.908842387608368)\n",
      "\n",
      "Results CROSS-analysis (extra-session - no extra session)\n",
      "Ttest_indResult(statistic=1.6005292971078042, pvalue=0.12688547764034491)\n",
      "Ttest_indResult(statistic=2.2084880261044684, pvalue=0.04041862959172892)\n",
      "Ttest_indResult(statistic=2.2084880261044684, pvalue=0.04041862959172892)\n"
     ]
    }
   ],
   "source": [
    "data['extra_session'] = [1 if int(x.split('sub')[-1]) > 13 else 0 for x in data['sub_name']]\n",
    "exsess = data[data['extra_session'] == 1]\n",
    "sess = data[data['extra_session'] == 0]\n",
    "\n",
    "print(\"Results SELF-analysis (extra-session - no extra session)\")\n",
    "print(ttest_ind(exsess['self_precision'], sess['self_precision']))\n",
    "print(ttest_ind(exsess['self_recall'], sess['self_recall']))\n",
    "print(ttest_ind(exsess['self_accuracy'], sess['self_accuracy']))\n",
    "\n",
    "print(\"\\nResults CROSS-analysis (extra-session - no extra session)\")\n",
    "print(ttest_ind(exsess['cross_precision'], sess['cross_precision']))\n",
    "print(ttest_ind(exsess['cross_recall'], sess['cross_recall']))\n",
    "print(ttest_ind(exsess['cross_accuracy'], sess['cross_accuracy']))"
   ]
  },
  {
   "cell_type": "code",
   "execution_count": 36,
   "metadata": {
    "collapsed": false
   },
   "outputs": [
    {
     "name": "stdout",
     "output_type": "stream",
     "text": [
      "Results SELF-analysis (first - second)\n",
      "Ttest_indResult(statistic=0.19693860582933903, pvalue=0.84782065880945512)\n",
      "Ttest_indResult(statistic=0.19556769058020837, pvalue=0.84886520821812583)\n",
      "Ttest_indResult(statistic=0.19556769058020837, pvalue=0.84886520821812583)\n",
      "\n",
      "Results CROSS-analysis (first - second)\n",
      "Ttest_indResult(statistic=0.90836639367196204, pvalue=0.3850532526690803)\n",
      "Ttest_indResult(statistic=3.4277750555505011, pvalue=0.006462562572941994)\n",
      "Ttest_indResult(statistic=3.4277750555505011, pvalue=0.006462562572941994)\n"
     ]
    }
   ],
   "source": [
    "s1 = data[(data['extra_session'] == 0) & (data['session'] == 1)]\n",
    "s2 = data[(data['extra_session'] == 0) & (data['session'] == 2)]\n",
    "\n",
    "print(\"Results SELF-analysis (first - second)\")\n",
    "print(ttest_ind(s1['self_precision'], s2['self_precision']))\n",
    "print(ttest_ind(s1['self_recall'], s2['self_recall']))\n",
    "print(ttest_ind(s1['self_accuracy'], s2['self_accuracy']))\n",
    "\n",
    "print(\"\\nResults CROSS-analysis (first - second)\")\n",
    "print(ttest_ind(s1['cross_precision'], s2['cross_precision']))\n",
    "print(ttest_ind(s1['cross_recall'], s2['cross_recall']))\n",
    "print(ttest_ind(s1['cross_accuracy'], s2['cross_accuracy']))"
   ]
  }
 ],
 "metadata": {
  "kernelspec": {
   "display_name": "Python 2",
   "language": "python",
   "name": "python2"
  },
  "language_info": {
   "codemirror_mode": {
    "name": "ipython",
    "version": 2
   },
   "file_extension": ".py",
   "mimetype": "text/x-python",
   "name": "python",
   "nbconvert_exporter": "python",
   "pygments_lexer": "ipython2",
   "version": "2.7.11"
  }
 },
 "nbformat": 4,
 "nbformat_minor": 0
}
