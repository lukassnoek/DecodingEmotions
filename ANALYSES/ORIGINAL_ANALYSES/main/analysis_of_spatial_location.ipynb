{
 "cells": [
  {
   "cell_type": "markdown",
   "metadata": {},
   "source": [
    "# Statistics notebook: Shared States (spatial configuration)\n",
    "This notebook complements the 'statistics_main_analysis' notebook. Note: this code depends on the master-branch of the skbold package.\n",
    "\n",
    "Lukas Snoek, February 2016 | lukassnoek@gmail.com <br>\n",
    "https://github.com/lukassnoek/SharedStates"
   ]
  },
  {
   "cell_type": "code",
   "execution_count": 1,
   "metadata": {
    "collapsed": false
   },
   "outputs": [
    {
     "name": "stderr",
     "output_type": "stream",
     "text": [
      "/home/lukas/anaconda2/lib/python2.7/site-packages/sklearn/cross_validation.py:44: DeprecationWarning: This module was deprecated in version 0.18 in favor of the model_selection module into which all the refactored classes and functions are moved. Also note that the interface of the new CV iterators are different from that of this module. This module will be removed in 0.20.\n",
      "  \"This module will be removed in 0.20.\", DeprecationWarning)\n"
     ]
    }
   ],
   "source": [
    "from __future__ import division, print_function\n",
    "import os\n",
    "import glob\n",
    "from collections import OrderedDict\n",
    "import os.path as op\n",
    "import numpy as np\n",
    "import matplotlib.pyplot as plt\n",
    "import nibabel as nib\n",
    "import pandas as pd\n",
    "from nilearn.plotting import plot_stat_map\n",
    "from scipy.stats import f_oneway, ttest_rel, pearsonr, t\n",
    "from skbold.postproc import extract_roi_info\n",
    "%matplotlib inline\n",
    "\n",
    "project_dir = '/media/lukas/data/SharedStates'\n"
   ]
  },
  {
   "cell_type": "markdown",
   "metadata": {},
   "source": [
    "\n",
    "**Note**: The tables\\* describing, per brain region, the amount of voxels (and max. value, coordinates, etc.) included in the brain maps are computed using the *extract_roi_info()* function in the *skbold* package (module: ```postproc```). Brain masks from the Harvard-Oxford Cortical atlas, which are probabilistic masks, were thresholded at 20% to minimize overlap between regions while covering as much as the brain as possible.\n",
    "\n",
    "\\* Supplementary Tables 3-6."
   ]
  },
  {
   "cell_type": "code",
   "execution_count": 9,
   "metadata": {
    "collapsed": false
   },
   "outputs": [
    {
     "name": "stdout",
     "output_type": "stream",
     "text": [
      "act>int\n",
      "Analyzing 3 clusters for /media/lukas/data/SharedStates/RESULTS/UNIVARIATE/Grouplevel_OTHER/cope4.feat/thresh_zstat1.nii.gz\n",
      "int>act\n",
      "Analyzing 1 clusters for /media/lukas/data/SharedStates/RESULTS/UNIVARIATE/Grouplevel_OTHER/cope4.feat/thresh_zstat2.nii.gz\n",
      "act>sit\n",
      "Analyzing 10 clusters for /media/lukas/data/SharedStates/RESULTS/UNIVARIATE/Grouplevel_OTHER/cope5.feat/thresh_zstat1.nii.gz\n",
      "sit>act\n",
      "Analyzing 10 clusters for /media/lukas/data/SharedStates/RESULTS/UNIVARIATE/Grouplevel_OTHER/cope5.feat/thresh_zstat2.nii.gz\n",
      "int>sit\n",
      "Analyzing 9 clusters for /media/lukas/data/SharedStates/RESULTS/UNIVARIATE/Grouplevel_OTHER/cope6.feat/thresh_zstat1.nii.gz\n",
      "sit>int\n",
      "Analyzing 6 clusters for /media/lukas/data/SharedStates/RESULTS/UNIVARIATE/Grouplevel_OTHER/cope6.feat/thresh_zstat2.nii.gz\n"
     ]
    }
   ],
   "source": [
    "univar_other_dir = op.join(project_dir, 'RESULTS', 'UNIVARIATE', 'Grouplevel_OTHER')\n",
    "other_contrasts = [('act>int', op.join(univar_other_dir, 'cope4.feat', 'thresh_zstat1.nii.gz')),\n",
    "                  ('int>act', op.join(univar_other_dir, 'cope4.feat', 'thresh_zstat2.nii.gz')),\n",
    "                  ('act>sit', op.join(univar_other_dir, 'cope5.feat', 'thresh_zstat1.nii.gz')),\n",
    "                  ('sit>act', op.join(univar_other_dir, 'cope5.feat', 'thresh_zstat2.nii.gz')),\n",
    "                  ('int>sit', op.join(univar_other_dir, 'cope6.feat', 'thresh_zstat1.nii.gz')),\n",
    "                  ('sit>int', op.join(univar_other_dir, 'cope6.feat', 'thresh_zstat2.nii.gz'))]\n",
    "other_contrasts = OrderedDict(other_contrasts)\n",
    "\n",
    "dfs = []\n",
    "for contrast, path in other_contrasts.items():\n",
    "    print(contrast)\n",
    "    df = extract_roi_info(path, stat_threshold=None, stat_name=contrast,\n",
    "                          per_cluster=True, roi_type='unilateral', mask_threshold=20,\n",
    "                          min_clust_size=20, verbose=False)\n",
    "    dfs.append(df)\n",
    "\n",
    "all_contrasts = pd.concat(dfs)\n",
    "all_contrasts.to_csv(op.join(univar_other_dir, 'voxel_table_other_contrasts.tsv'), sep='\\t')"
   ]
  },
  {
   "cell_type": "code",
   "execution_count": 6,
   "metadata": {
    "collapsed": false
   },
   "outputs": [
    {
     "name": "stdout",
     "output_type": "stream",
     "text": [
      "act>int\n",
      "Analyzing 4 clusters for /media/lukas/data/SharedStates/RESULTS/UNIVARIATE/Grouplevel_SELF/Cope4.gfeat/thresh_zstat1.nii.gz\n",
      "int>act\n",
      "Analyzing 3 clusters for /media/lukas/data/SharedStates/RESULTS/UNIVARIATE/Grouplevel_SELF/Cope4.gfeat/thresh_zstat2.nii.gz\n",
      "act>sit\n",
      "Analyzing 11 clusters for /media/lukas/data/SharedStates/RESULTS/UNIVARIATE/Grouplevel_SELF/Cope5.gfeat/thresh_zstat1.nii.gz\n",
      "sit>act\n",
      "Analyzing 7 clusters for /media/lukas/data/SharedStates/RESULTS/UNIVARIATE/Grouplevel_SELF/Cope5.gfeat/thresh_zstat2.nii.gz\n",
      "int>sit\n",
      "Analyzing 6 clusters for /media/lukas/data/SharedStates/RESULTS/UNIVARIATE/Grouplevel_SELF/Cope6.gfeat/thresh_zstat1.nii.gz\n",
      "sit>int\n",
      "Analyzing 11 clusters for /media/lukas/data/SharedStates/RESULTS/UNIVARIATE/Grouplevel_SELF/Cope6.gfeat/thresh_zstat2.nii.gz\n"
     ]
    }
   ],
   "source": [
    "univar_self_dir = op.join(project_dir, 'RESULTS', 'UNIVARIATE', 'Grouplevel_SELF')\n",
    "self_contrasts = [('act>int', op.join(univar_self_dir, 'Cope4.gfeat', 'thresh_zstat1.nii.gz')),\n",
    "                  ('int>act', op.join(univar_self_dir, 'Cope4.gfeat', 'thresh_zstat2.nii.gz')),\n",
    "                  ('act>sit', op.join(univar_self_dir, 'Cope5.gfeat', 'thresh_zstat1.nii.gz')),\n",
    "                  ('sit>act', op.join(univar_self_dir, 'Cope5.gfeat', 'thresh_zstat2.nii.gz')),\n",
    "                  ('int>sit', op.join(univar_self_dir, 'Cope6.gfeat', 'thresh_zstat1.nii.gz')),\n",
    "                  ('sit>int', op.join(univar_self_dir, 'Cope6.gfeat', 'thresh_zstat2.nii.gz'))]\n",
    "self_contrasts = OrderedDict(self_contrasts)\n",
    "\n",
    "dfs = []\n",
    "for contrast, path in self_contrasts.items():\n",
    "    print(contrast)\n",
    "    df = extract_roi_info(path, stat_threshold=None, stat_name=contrast,\n",
    "                          per_cluster=True, roi_type='unilateral', mask_threshold=20,\n",
    "                          min_clust_size=20, verbose=False)\n",
    "    dfs.append(df)\n",
    "\n",
    "all_contrasts = pd.concat(dfs)\n",
    "all_contrasts.to_csv(op.join(univar_self_dir, 'voxel_table_self_contrasts.tsv'), sep='\\t')"
   ]
  }
 ],
 "metadata": {
  "kernelspec": {
   "display_name": "Python 2",
   "language": "python",
   "name": "python2"
  },
  "language_info": {
   "codemirror_mode": {
    "name": "ipython",
    "version": 2
   },
   "file_extension": ".py",
   "mimetype": "text/x-python",
   "name": "python",
   "nbconvert_exporter": "python",
   "pygments_lexer": "ipython2",
   "version": "2.7.13"
  }
 },
 "nbformat": 4,
 "nbformat_minor": 2
}
