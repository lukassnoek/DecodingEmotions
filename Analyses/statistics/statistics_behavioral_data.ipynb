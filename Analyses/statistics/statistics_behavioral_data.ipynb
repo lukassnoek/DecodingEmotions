{
 "cells": [
  {
   "cell_type": "markdown",
   "metadata": {},
   "source": [
    "# Statistics notebook for behavioral data\n",
    "Simple descriptive statistics such as mean age etc."
   ]
  },
  {
   "cell_type": "code",
   "execution_count": 151,
   "metadata": {
    "collapsed": true
   },
   "outputs": [],
   "source": [
    "import numpy as np\n",
    "import pandas as pd\n",
    "import os\n",
    "import os.path as op\n",
    "import glob\n",
    "from scipy.stats import pearsonr, f_oneway, ttest_ind\n",
    "import seaborn as sns\n",
    "import matplotlib.pyplot as plt\n",
    "%matplotlib inline"
   ]
  },
  {
   "cell_type": "code",
   "execution_count": 11,
   "metadata": {
    "collapsed": false
   },
   "outputs": [
    {
     "name": "stdout",
     "output_type": "stream",
     "text": [
      "Mean age: 21.476190, std age: 1.749830\n",
      "Proportion female: 14.000000\n"
     ]
    }
   ],
   "source": [
    "home = '/home/lukas/Dropbox/PhD_projects/DecodingEmotions_SCAN/Behavioral_data'\n",
    "demographics_file = op.join(home, 'demographics.csv')\n",
    "demogr = pd.read_csv(demographics_file, sep=',')\n",
    "\n",
    "m_age = demogr['age'].mean()\n",
    "std_age = demogr['age'].std()\n",
    "number_female = np.sum([g == 'F' for g in demogr['gender']])\n",
    "print('Mean age: %f, std age: %f' % (m_age, std_age))\n",
    "print('Proportion female: %f' % number_female)"
   ]
  },
  {
   "cell_type": "code",
   "execution_count": 105,
   "metadata": {
    "collapsed": false
   },
   "outputs": [],
   "source": [
    "validation_file = op.join(home, 'validation_behav.csv')\n",
    "val_data = pd.read_csv(validation_file, sep=',')\n",
    "df_long = pd.melt(val_data, id_vars=['sub_name'], value_vars=['suc_other_act', 'suc_other_int', 'suc_other_sit',\n",
    "                                                              'suc_self_act', 'suc_self_int', 'suc_self_sit'])\n",
    "df_long['condition'] = ['self' if 'self' in c else 'other' for c in df_long['variable']]"
   ]
  },
  {
   "cell_type": "code",
   "execution_count": 146,
   "metadata": {
    "collapsed": false
   },
   "outputs": [
    {
     "data": {
      "image/png": "[encoded data removed]",
      "text/plain": [
       "<matplotlib.figure.Figure at 0x7fa71d096690>"
      ]
     },
     "metadata": {},
     "output_type": "display_data"
    }
   ],
   "source": [
    "sns.set_style(\"whitegrid\")\n",
    "\n",
    "ax1 = plt.subplot(121)\n",
    "sns.barplot(x='variable', y='value', data=df_long[df_long['condition']=='self'], palette='Greys')\n",
    "ax1.set_ylabel('% succesful'), ax1.set_xlabel('')\n",
    "ax1.set_xticklabels(['Action', 'Interoception', 'Situation'])\n",
    "ax1.set_title('Self')\n",
    "ax2 = plt.subplot(122, sharex=ax1, sharey=ax1)\n",
    "sns.barplot(x='variable', y='value', data=df_long[df_long['condition']=='other'], palette='Greys')\n",
    "ax2.set_ylabel(''), ax2.set_xlabel('')\n",
    "ax2.set_xticklabels(['Action', 'Interoception', 'Situation'])\n",
    "ax2.set_title('Self $\\longrightarrow$ Other')\n",
    "plt.tight_layout()\n",
    "\n",
    "plt.savefig('/home/lukas/Dropbox/PhD_projects/DecodingEmotions_SCAN/Behavioral_data/success.png', dpi=400)"
   ]
  },
  {
   "cell_type": "code",
   "execution_count": 155,
   "metadata": {
    "collapsed": false
   },
   "outputs": [
    {
     "name": "stdout",
     "output_type": "stream",
     "text": [
      "Self-data: F(2, 17) = 1.031114, p = 0.363164\n",
      "Other-data: F(2, 17) = 17.740571, p = 0.000001\n"
     ]
    }
   ],
   "source": [
    "fval, pval = f_oneway(val_data['suc_self_act'], val_data['suc_self_int'], val_data['suc_self_sit'])\n",
    "print('Self-data: F(2, %i) = %f, p = %f' % (val_data.shape[0]-3, fval, pval))\n",
    "\n",
    "fval, pval = f_oneway(val_data['suc_other_act'], val_data['suc_other_int'], val_data['suc_other_sit'])\n",
    "print('Other-data: F(2, %i) = %f, p = %f' % (val_data.shape[0]-3, fval, pval))\n",
    "\n",
    "tval_si, pval_si = ttest_ind(val_data['suc_other_sit'], val_data['suc_other_int'])\n",
    "tval_si, pval_si = ttest_ind(val_data['suc_other_sit'], val_data['suc_other_int'])\n",
    "tval_si, pval_si = ttest_ind(val_data['suc_other_sit'], val_data['suc_other_int'])"
   ]
  },
  {
   "cell_type": "code",
   "execution_count": 44,
   "metadata": {
    "collapsed": false
   },
   "outputs": [],
   "source": [
    "import nibabel as nib\n",
    "val_dir = '/media/lukas/data/DecodingEmotions/Validation_set'\n",
    "zinnen = glob.glob(op.join(val_dir, 'glm_zinnen/100000iter_results/vox_results_mni/*.nii.gz'))\n",
    "\n",
    "average = np.zeros((91, 109, 91, len(zinnen)))\n",
    "for i, f in enumerate(zinnen):\n",
    "    average[:, :, :, i] = nib.load(f).get_data()\n",
    "\n",
    "av, se = average-0.3333, average.std(axis=0) / np.sqrt(len(zinnen)-1)\n",
    "av[av<0] = 0"
   ]
  }
 ],
 "metadata": {
  "kernelspec": {
   "display_name": "Python 2",
   "language": "python",
   "name": "python2"
  },
  "language_info": {
   "codemirror_mode": {
    "name": "ipython",
    "version": 2
   },
   "file_extension": ".py",
   "mimetype": "text/x-python",
   "name": "python",
   "nbconvert_exporter": "python",
   "pygments_lexer": "ipython2",
   "version": "2.7.11"
  }
 },
 "nbformat": 4,
 "nbformat_minor": 0
}
